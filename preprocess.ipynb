{
 "cells": [
  {
   "cell_type": "markdown",
   "metadata": {},
   "source": [
    "# Code to resize the image."
   ]
  },
  {
   "cell_type": "code",
   "execution_count": 4,
   "metadata": {},
   "outputs": [],
   "source": [
    "\n",
    "import cv2\n",
    "import glob\n",
    "import os\n",
    "import time\n",
    "\n",
    "\n",
    "# input_folder = r'C:/EYE_ARMD/augmented_normal_images/'\n",
    "# input_folder = r'C:/EYE_ARMD/augmented_dryamd_images/'\n",
    "input_folder = r'A:/TechieYan projects/AI/skin cancer/new_data_classes/vascular lesion/'\n",
    "os.mkdir('resized_new_classes\\V')\n",
    "\n",
    "i = 0\n",
    "\n",
    "for img in glob.glob(input_folder + \"*.*\"):\n",
    "    img = cv2.imread(img)\n",
    "    img_half = cv2.resize(img, (180, 180))\n",
    "    # cv2.imwrite(\"resized_normal_images/images%i.jpg\" %i,img_half)   \n",
    "    # cv2.imwrite(\"resized_dryamd_images/images%i.jpg\" %i,img_half) \n",
    "    cv2.imwrite(\"resized_new_classes/V/images%i.jpg\" %i,img_half) \n",
    "\n",
    "    i+=1\n",
    "    cv2.waitKey(30)\n",
    "cv2.destroyAllWindows()\n"
   ]
  },
  {
   "cell_type": "markdown",
   "metadata": {},
   "source": [
    "# Data Augmentation"
   ]
  },
  {
   "cell_type": "code",
   "execution_count": null,
   "metadata": {},
   "outputs": [],
   "source": []
  },
  {
   "cell_type": "code",
   "execution_count": 6,
   "metadata": {},
   "outputs": [],
   "source": [
    "\n",
    "from keras.preprocessing.image import ImageDataGenerator\n",
    "from keras.utils.image_utils import  array_to_img, img_to_array, load_img\n",
    "import glob"
   ]
  },
  {
   "cell_type": "code",
   "execution_count": 9,
   "metadata": {},
   "outputs": [],
   "source": [
    "\n",
    "datagen = ImageDataGenerator(rotation_range=40,width_shift_range=0.3,height_shift_range=0.3,\n",
    "shear_range=0.2,zoom_range=0.2,horizontal_flip=True,fill_mode='nearest')\n",
    "\n",
    "file_path = r'A:/TechieYan projects/AI/skin cancer/resized_new_classes/V/'\n",
    "for image_path in glob.glob(file_path + \"/*.*\"):\n",
    "    img = load_img(image_path)\n",
    "    x = img_to_array(img)\n",
    "    x = x.reshape((1,) + x.shape)\n",
    "\n",
    "    i = 0\n",
    "    for batch in datagen.flow(x, batch_size=1, save_to_dir=r'A:/TechieYan projects/AI/skin cancer/augmented_new_data/V/', \n",
    "    save_prefix='image', save_format='jpg'):\n",
    "        i += 1\n",
    "        if i > 9:\n",
    "            break # otherwise the generator would loop indefinitely\n"
   ]
  },
  {
   "cell_type": "code",
   "execution_count": null,
   "metadata": {},
   "outputs": [],
   "source": []
  }
 ],
 "metadata": {
  "kernelspec": {
   "display_name": "Python 3 (ipykernel)",
   "language": "python",
   "name": "python3"
  },
  "language_info": {
   "codemirror_mode": {
    "name": "ipython",
    "version": 3
   },
   "file_extension": ".py",
   "mimetype": "text/x-python",
   "name": "python",
   "nbconvert_exporter": "python",
   "pygments_lexer": "ipython3",
   "version": "3.9.13"
  },
  "vscode": {
   "interpreter": {
    "hash": "537a1ccab29e2bad0b4d998c04f52d9d2f6eadd1beb35b9ac347a685a31f8869"
   }
  }
 },
 "nbformat": 4,
 "nbformat_minor": 4
}
