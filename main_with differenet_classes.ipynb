{
 "cells": [
  {
   "cell_type": "code",
   "execution_count": 2,
   "metadata": {},
   "outputs": [],
   "source": [
    "import pandas as pd\n",
    "import numpy as np\n",
    "import glob\n",
    "import imageio\n",
    "import matplotlib.pyplot as plt\n",
    "import seaborn as sns \n",
    "import sklearn\n",
    "import tensorflow as tf\n",
    "from sklearn.model_selection import train_test_split\n",
    "from tensorflow.keras import datasets, layers, models, optimizers, regularizers, callbacks\n",
    "from tensorflow.keras.callbacks import EarlyStopping, ModelCheckpoint\n",
    "from sklearn.metrics import confusion_matrix\n"
   ]
  },
  {
   "cell_type": "code",
   "execution_count": 3,
   "metadata": {},
   "outputs": [],
   "source": [
    "# Here we create a dict which consists label for each image path and its particular data.\n",
    "def load_file(file_path, label):\n",
    "\n",
    "    # declare the folder name\n",
    "    folder_name = file_path.split(\"/\")[-1]\n",
    "    # declare output list\n",
    "    out_list = []\n",
    "    # load every file that .png format\n",
    "    for image_path in glob.glob(file_path + \"/*.*\"):\n",
    "        # read image file\n",
    "        # image = imageio.imread(image_path)\n",
    "        image = imageio.v2.imread(image_path)   \n",
    "        # print(image_path)\n",
    "        # declare temporary dict dtype\n",
    "        temp = {}\n",
    "        # set the file name\n",
    "        temp[\"name\"] = image_path.split(\"/\")[-1]\n",
    "        # set the file label, 0 for non defect. 1 for defect\n",
    "        temp[\"label\"] = label\n",
    "\n",
    "        # There are somes images are tensor dtype\n",
    "        # Thus I fix by selecting only a tensor index zero\n",
    "        try:   \n",
    "            temp[\"data\"] = image[:,:,0].astype(\"int\") \n",
    "        except:\n",
    "            # normal case\n",
    "            temp[\"data\"] = image.astype(\"int\")\n",
    "        # append temp into output list\n",
    "        out_list.append(temp)\n",
    "    # print process status by checking size of output list\n",
    "    if len(out_list) == 0:\n",
    "        print(\"loading files from folder: {} is failed\".format(folder_name))\n",
    "    else:\n",
    "        print(\"loading file from folder: {} is successful\".format(folder_name))\n",
    "    # convert list into numpy array dtype\n",
    "    return np.array(out_list)"
   ]
  },
  {
   "cell_type": "code",
   "execution_count": 4,
   "metadata": {},
   "outputs": [],
   "source": [
    "acnitic_images_path      =  r\"C:/Users/heman/Downloads/Capstone_Project/SKIN/augmented_new_data/A/\"\n",
    "derma_images_path =  r\"C:/Users/heman/Downloads/Capstone_Project/SKIN/augmented_new_data/D/\"\n",
    "vascular_images_path =  r\"C:/Users/heman/Downloads/Capstone_Project/SKIN/augmented_new_data/V/\""
   ]
  },
  {
   "cell_type": "code",
   "execution_count": 5,
   "metadata": {},
   "outputs": [
    {
     "name": "stdout",
     "output_type": "stream",
     "text": [
      "loading file from folder:  is successful\n",
      "loading file from folder:  is successful\n",
      "loading file from folder:  is successful\n"
     ]
    }
   ],
   "source": [
    "acnitic_images_path = load_file(file_path=acnitic_images_path, label=0)\n",
    "derma_images_path = load_file(file_path=derma_images_path, label=1)\n",
    "vascular_images_path = load_file(file_path=vascular_images_path, label=2)"
   ]
  },
  {
   "cell_type": "code",
   "execution_count": 6,
   "metadata": {},
   "outputs": [
    {
     "data": {
      "text/plain": [
       "(1180,)"
      ]
     },
     "execution_count": 6,
     "metadata": {},
     "output_type": "execute_result"
    }
   ],
   "source": [
    "acnitic_images_path.shape"
   ]
  },
  {
   "cell_type": "code",
   "execution_count": 7,
   "metadata": {},
   "outputs": [
    {
     "data": {
      "text/plain": [
       "(1161,)"
      ]
     },
     "execution_count": 7,
     "metadata": {},
     "output_type": "execute_result"
    }
   ],
   "source": [
    "derma_images_path.shape"
   ]
  },
  {
   "cell_type": "code",
   "execution_count": 8,
   "metadata": {},
   "outputs": [
    {
     "data": {
      "text/plain": [
       "(1307,)"
      ]
     },
     "execution_count": 8,
     "metadata": {},
     "output_type": "execute_result"
    }
   ],
   "source": [
    "vascular_images_path.shape"
   ]
  },
  {
   "cell_type": "code",
   "execution_count": null,
   "metadata": {},
   "outputs": [],
   "source": []
  },
  {
   "cell_type": "markdown",
   "metadata": {},
   "source": [
    "## **Prepare and clean the data to avoid error during model fitting.**"
   ]
  },
  {
   "cell_type": "code",
   "execution_count": 9,
   "metadata": {},
   "outputs": [
    {
     "name": "stdout",
     "output_type": "stream",
     "text": [
      "Class Size: 1161\n"
     ]
    }
   ],
   "source": [
    "np.random.shuffle(acnitic_images_path)\n",
    "np.random.shuffle(derma_images_path)\n",
    "np.random.shuffle(vascular_images_path)\n",
    "\n",
    "# the class size is the min length compared with defect-free and defect images, we do this in orde to balance the dataset.\n",
    "if (acnitic_images_path.shape[0] <= derma_images_path.shape[0]) and (acnitic_images_path.shape[0] <= vascular_images_path.shape[0]):\n",
    "  class_size = acnitic_images_path.shape[0]\n",
    "elif (derma_images_path.shape[0] <= vascular_images_path.shape[0]) and (derma_images_path.shape[0] <= acnitic_images_path.shape[0]):\n",
    "  class_size = derma_images_path.shape[0]\n",
    "else:\n",
    "  class_size = vascular_images_path.shape[0]\n",
    "print(\"Class Size:\", class_size)\n"
   ]
  },
  {
   "cell_type": "code",
   "execution_count": 10,
   "metadata": {},
   "outputs": [
    {
     "name": "stdout",
     "output_type": "stream",
     "text": [
      "(3483, 180, 180, 1)\n"
     ]
    },
    {
     "data": {
      "text/plain": [
       "(array([0, 1, 2]), array([1161, 1161, 1161], dtype=int64))"
      ]
     },
     "execution_count": 10,
     "metadata": {},
     "output_type": "execute_result"
    }
   ],
   "source": [
    "# we shuffle the order of defect-free and defect images\n",
    "np.random.shuffle(acnitic_images_path)\n",
    "np.random.shuffle(derma_images_path)\n",
    "np.random.shuffle(vascular_images_path)\n",
    "\n",
    "# Concatenate both the datasets with size as class_size.\n",
    "dataset = np.concatenate((acnitic_images_path[:class_size], derma_images_path[:class_size], vascular_images_path[:class_size]))\n",
    "\n",
    "# create an empty matrix X of 256x4096 and has dataset length row, which holds all the data i.e images from dataset.\n",
    "# Independent Features -> X\n",
    "X = np.empty([dataset.shape[0], 180, 180]).astype(int)\n",
    "\n",
    "# create vector y which has dataset length, which holds all the labels for our data, this is jsut similar to partitioning the data before splitting, \n",
    "# Target_variable -> y\n",
    "y = np.empty(dataset.shape[0]).astype(int)\n",
    "\n",
    "# assign the X,y one-by-one\n",
    "for i in range(dataset.shape[0]):\n",
    "    X[i] = dataset[i][\"data\"]\n",
    "    y[i] = dataset[i][\"label\"]\n",
    "\n",
    "# since Keras acquire the Image input in a tensor type -> we reshape X\n",
    "X = X.reshape(X.shape[0], 180, 180, 1)\n",
    "print(X.shape)\n",
    "\n",
    "# display size of the label 0 and label 1 \n",
    "np.unique(y, return_counts=True)\n"
   ]
  },
  {
   "cell_type": "code",
   "execution_count": null,
   "metadata": {},
   "outputs": [],
   "source": []
  },
  {
   "cell_type": "code",
   "execution_count": null,
   "metadata": {},
   "outputs": [],
   "source": []
  },
  {
   "cell_type": "code",
   "execution_count": null,
   "metadata": {},
   "outputs": [],
   "source": []
  },
  {
   "cell_type": "markdown",
   "metadata": {},
   "source": [
    "## **Model Building**"
   ]
  },
  {
   "cell_type": "code",
   "execution_count": 11,
   "metadata": {},
   "outputs": [
    {
     "name": "stdout",
     "output_type": "stream",
     "text": [
      "Model: \"sequential\"\n",
      "_________________________________________________________________\n",
      " Layer (type)                Output Shape              Param #   \n",
      "=================================================================\n",
      " rescaling (Rescaling)       (None, 180, 180, 1)       0         \n",
      "                                                                 \n",
      " conv2d (Conv2D)             (None, 180, 180, 16)      160       \n",
      "                                                                 \n",
      " activation (Activation)     (None, 180, 180, 16)      0         \n",
      "                                                                 \n",
      " max_pooling2d (MaxPooling2D  (None, 90, 90, 16)       0         \n",
      " )                                                               \n",
      "                                                                 \n",
      " conv2d_1 (Conv2D)           (None, 90, 90, 32)        4640      \n",
      "                                                                 \n",
      " activation_1 (Activation)   (None, 90, 90, 32)        0         \n",
      "                                                                 \n",
      " max_pooling2d_1 (MaxPooling  (None, 45, 45, 32)       0         \n",
      " 2D)                                                             \n",
      "                                                                 \n",
      " conv2d_2 (Conv2D)           (None, 45, 45, 64)        18496     \n",
      "                                                                 \n",
      " activation_2 (Activation)   (None, 45, 45, 64)        0         \n",
      "                                                                 \n",
      " max_pooling2d_2 (MaxPooling  (None, 22, 22, 64)       0         \n",
      " 2D)                                                             \n",
      "                                                                 \n",
      " dropout (Dropout)           (None, 22, 22, 64)        0         \n",
      "                                                                 \n",
      " flatten (Flatten)           (None, 30976)             0         \n",
      "                                                                 \n",
      " dense (Dense)               (None, 128)               3965056   \n",
      "                                                                 \n",
      " activation_3 (Activation)   (None, 128)               0         \n",
      "                                                                 \n",
      " dense_1 (Dense)             (None, 3)                 387       \n",
      "                                                                 \n",
      "=================================================================\n",
      "Total params: 3,988,739\n",
      "Trainable params: 3,988,739\n",
      "Non-trainable params: 0\n",
      "_________________________________________________________________\n"
     ]
    },
    {
     "data": {
      "text/plain": [
       "<keras.engine.sequential.Sequential at 0x1e06286b4c0>"
      ]
     },
     "execution_count": 11,
     "metadata": {},
     "output_type": "execute_result"
    }
   ],
   "source": [
    "def create_model(image_shape = (180, 180, 1), print_summary = True):\n",
    "    model = models.Sequential()\n",
    "    model.add(layers.experimental.preprocessing.Rescaling(1./255, input_shape=(180, 180, 1)))\n",
    "    model.add(layers.Conv2D(16, 3, padding='same'))\n",
    "    model.add(layers.Activation('relu'))\n",
    "    model.add(layers.MaxPooling2D())\n",
    "\n",
    "    model.add(layers.Conv2D(32, 3, padding='same'))\n",
    "    model.add(layers.Activation('relu'))\n",
    "    model.add(layers.MaxPooling2D())\n",
    "\n",
    "    model.add(layers.Conv2D(64, 3, padding='same'))\n",
    "    model.add(layers.Activation('relu'))\n",
    "    model.add(layers.MaxPooling2D())\n",
    "    model.add(layers.Dropout(0.20))\n",
    "\n",
    "    model.add(layers.Flatten())\n",
    "    model.add(layers.Dense(128))\n",
    "    model.add(layers.Activation('relu'))\n",
    "    model.add(layers.Dense(3, activation = 'sigmoid'))\n",
    "\n",
    "    \n",
    "    model.compile(optimizer='adam', loss=tf.keras.losses.SparseCategoricalCrossentropy(from_logits=True), metrics=['accuracy'])\n",
    "    \n",
    "    # show the CNN model detail\n",
    "    if print_summary:\n",
    "        model.summary()\n",
    "    return model\n",
    "\n",
    "def train_model(model, xtrain, ytrain, xval, yval, n_epoch, batch_size):\n",
    "    # train CNN model\n",
    "    # batch size to reduce memory usage\n",
    "    # set early stopping to avoid overfitting\n",
    "    \n",
    "    earlystopping = EarlyStopping(monitor='accuracy', patience=2)\n",
    "    filepath = \"C:/Users/heman/Downloads/Capstone_Project/SKIN/models/different_class_accuracy/weights-best-{epoch:02d}-{accuracy:.2f}-{val_accuracy:.2f}.hdf5\"\n",
    "    \n",
    "    checkpoint = ModelCheckpoint(filepath, monitor='accuracy', verbose=1, save_best_only=True, mode='max')\n",
    "    callbacks_list = [checkpoint, earlystopping]\n",
    "\n",
    "    history = model.fit(xtrain, ytrain, epochs=n_epoch, batch_size=batch_size, validation_data=(xval, yval), callbacks=[callbacks_list])\n",
    "    return history\n",
    "\n",
    "\n",
    "create_model(image_shape=(180, 180, 1), print_summary=True)\n"
   ]
  },
  {
   "cell_type": "markdown",
   "metadata": {},
   "source": [
    "## Train and Export CNN Model"
   ]
  },
  {
   "cell_type": "code",
   "execution_count": 12,
   "metadata": {},
   "outputs": [
    {
     "name": "stdout",
     "output_type": "stream",
     "text": [
      "y_train: number of samples each class: (array([0, 1, 2]), array([1053, 1047, 1034], dtype=int64))\n",
      "y_test: number of samples each class: (array([0, 1, 2]), array([108, 114, 127], dtype=int64))\n"
     ]
    }
   ],
   "source": [
    "X_train, X_test, y_train, y_test = train_test_split(X, y, test_size=0.10, random_state=23)\n",
    "print(\"y_train: number of samples each class: {}\".format(np.unique(y_train, return_counts=True)))\n",
    "print(\"y_test: number of samples each class: {}\".format(np.unique(y_test, return_counts=True)))"
   ]
  },
  {
   "cell_type": "code",
   "execution_count": 13,
   "metadata": {},
   "outputs": [
    {
     "name": "stdout",
     "output_type": "stream",
     "text": [
      "Model: \"sequential_1\"\n",
      "_________________________________________________________________\n",
      " Layer (type)                Output Shape              Param #   \n",
      "=================================================================\n",
      " rescaling_1 (Rescaling)     (None, 180, 180, 1)       0         \n",
      "                                                                 \n",
      " conv2d_3 (Conv2D)           (None, 180, 180, 16)      160       \n",
      "                                                                 \n",
      " activation_4 (Activation)   (None, 180, 180, 16)      0         \n",
      "                                                                 \n",
      " max_pooling2d_3 (MaxPooling  (None, 90, 90, 16)       0         \n",
      " 2D)                                                             \n",
      "                                                                 \n",
      " conv2d_4 (Conv2D)           (None, 90, 90, 32)        4640      \n",
      "                                                                 \n",
      " activation_5 (Activation)   (None, 90, 90, 32)        0         \n",
      "                                                                 \n",
      " max_pooling2d_4 (MaxPooling  (None, 45, 45, 32)       0         \n",
      " 2D)                                                             \n",
      "                                                                 \n",
      " conv2d_5 (Conv2D)           (None, 45, 45, 64)        18496     \n",
      "                                                                 \n",
      " activation_6 (Activation)   (None, 45, 45, 64)        0         \n",
      "                                                                 \n",
      " max_pooling2d_5 (MaxPooling  (None, 22, 22, 64)       0         \n",
      " 2D)                                                             \n",
      "                                                                 \n",
      " dropout_1 (Dropout)         (None, 22, 22, 64)        0         \n",
      "                                                                 \n",
      " flatten_1 (Flatten)         (None, 30976)             0         \n",
      "                                                                 \n",
      " dense_2 (Dense)             (None, 128)               3965056   \n",
      "                                                                 \n",
      " activation_7 (Activation)   (None, 128)               0         \n",
      "                                                                 \n",
      " dense_3 (Dense)             (None, 3)                 387       \n",
      "                                                                 \n",
      "=================================================================\n",
      "Total params: 3,988,739\n",
      "Trainable params: 3,988,739\n",
      "Non-trainable params: 0\n",
      "_________________________________________________________________\n"
     ]
    }
   ],
   "source": [
    "cnn_model = None\n",
    "cnn_model = create_model(image_shape=(180, 180, 1))"
   ]
  },
  {
   "cell_type": "code",
   "execution_count": 14,
   "metadata": {},
   "outputs": [],
   "source": [
    "earlystopping = EarlyStopping(monitor='accuracy', patience=5)\n",
    "filepath = \"C:/Users/heman/Downloads/Capstone_Project/SKIN/models/different_class_accuracy/weights-best-{epoch:02d}-{accuracy:.2f}-{val_accuracy:.2f}.hdf5\"\n",
    "checkpoint = ModelCheckpoint(filepath, monitor='accuracy', verbose=1, save_best_only=True, mode='max')\n",
    "callbacks_list = [checkpoint, earlystopping]"
   ]
  },
  {
   "cell_type": "code",
   "execution_count": 15,
   "metadata": {},
   "outputs": [
    {
     "name": "stdout",
     "output_type": "stream",
     "text": [
      "Epoch 1/30\n"
     ]
    },
    {
     "name": "stderr",
     "output_type": "stream",
     "text": [
      "C:\\Users\\heman\\anaconda3\\lib\\site-packages\\keras\\backend.py:5585: UserWarning: \"`sparse_categorical_crossentropy` received `from_logits=True`, but the `output` argument was produced by a Softmax activation and thus does not represent logits. Was this intended?\n",
      "  output, from_logits = _get_logits(\n"
     ]
    },
    {
     "name": "stdout",
     "output_type": "stream",
     "text": [
      "282/282 [==============================] - ETA: 0s - loss: 1.0788 - accuracy: 0.3674\n",
      "Epoch 1: accuracy improved from -inf to 0.36738, saving model to C:/Users/heman/Downloads/Capstone_Project/SKIN/models/different_class_accuracy\\weights-best-01-0.37-0.38.hdf5\n",
      "282/282 [==============================] - 70s 236ms/step - loss: 1.0788 - accuracy: 0.3674 - val_loss: 1.0631 - val_accuracy: 0.3790\n",
      "Epoch 2/30\n",
      "282/282 [==============================] - ETA: 0s - loss: 1.0267 - accuracy: 0.4135\n",
      "Epoch 2: accuracy improved from 0.36738 to 0.41348, saving model to C:/Users/heman/Downloads/Capstone_Project/SKIN/models/different_class_accuracy\\weights-best-02-0.41-0.41.hdf5\n",
      "282/282 [==============================] - 66s 235ms/step - loss: 1.0267 - accuracy: 0.4135 - val_loss: 1.0369 - val_accuracy: 0.4076\n",
      "Epoch 3/30\n",
      "282/282 [==============================] - ETA: 0s - loss: 0.9963 - accuracy: 0.4401\n",
      "Epoch 3: accuracy improved from 0.41348 to 0.44007, saving model to C:/Users/heman/Downloads/Capstone_Project/SKIN/models/different_class_accuracy\\weights-best-03-0.44-0.43.hdf5\n",
      "282/282 [==============================] - 66s 234ms/step - loss: 0.9963 - accuracy: 0.4401 - val_loss: 1.0072 - val_accuracy: 0.4299\n",
      "Epoch 4/30\n",
      "282/282 [==============================] - ETA: 0s - loss: 0.9770 - accuracy: 0.4582\n",
      "Epoch 4: accuracy improved from 0.44007 to 0.45816, saving model to C:/Users/heman/Downloads/Capstone_Project/SKIN/models/different_class_accuracy\\weights-best-04-0.46-0.42.hdf5\n",
      "282/282 [==============================] - 67s 237ms/step - loss: 0.9770 - accuracy: 0.4582 - val_loss: 1.0219 - val_accuracy: 0.4236\n",
      "Epoch 5/30\n",
      "282/282 [==============================] - ETA: 0s - loss: 0.9647 - accuracy: 0.4713\n",
      "Epoch 5: accuracy improved from 0.45816 to 0.47128, saving model to C:/Users/heman/Downloads/Capstone_Project/SKIN/models/different_class_accuracy\\weights-best-05-0.47-0.47.hdf5\n",
      "282/282 [==============================] - 67s 237ms/step - loss: 0.9647 - accuracy: 0.4713 - val_loss: 1.0840 - val_accuracy: 0.4713\n",
      "Epoch 6/30\n",
      "282/282 [==============================] - ETA: 0s - loss: 0.9297 - accuracy: 0.5181\n",
      "Epoch 6: accuracy improved from 0.47128 to 0.51809, saving model to C:/Users/heman/Downloads/Capstone_Project/SKIN/models/different_class_accuracy\\weights-best-06-0.52-0.47.hdf5\n",
      "282/282 [==============================] - 67s 236ms/step - loss: 0.9297 - accuracy: 0.5181 - val_loss: 1.0127 - val_accuracy: 0.4682\n",
      "Epoch 7/30\n",
      "282/282 [==============================] - ETA: 0s - loss: 0.8866 - accuracy: 0.5592\n",
      "Epoch 7: accuracy improved from 0.51809 to 0.55922, saving model to C:/Users/heman/Downloads/Capstone_Project/SKIN/models/different_class_accuracy\\weights-best-07-0.56-0.54.hdf5\n",
      "282/282 [==============================] - 66s 235ms/step - loss: 0.8866 - accuracy: 0.5592 - val_loss: 0.9408 - val_accuracy: 0.5382\n",
      "Epoch 8/30\n",
      "282/282 [==============================] - ETA: 0s - loss: 0.8765 - accuracy: 0.5564\n",
      "Epoch 8: accuracy did not improve from 0.55922\n",
      "282/282 [==============================] - 68s 243ms/step - loss: 0.8765 - accuracy: 0.5564 - val_loss: 1.0449 - val_accuracy: 0.5414\n",
      "Epoch 9/30\n",
      "282/282 [==============================] - ETA: 0s - loss: 0.8170 - accuracy: 0.6046\n",
      "Epoch 9: accuracy improved from 0.55922 to 0.60461, saving model to C:/Users/heman/Downloads/Capstone_Project/SKIN/models/different_class_accuracy\\weights-best-09-0.60-0.51.hdf5\n",
      "282/282 [==============================] - 67s 238ms/step - loss: 0.8170 - accuracy: 0.6046 - val_loss: 0.9905 - val_accuracy: 0.5127\n",
      "Epoch 10/30\n",
      "282/282 [==============================] - ETA: 0s - loss: 0.7815 - accuracy: 0.6128\n",
      "Epoch 10: accuracy improved from 0.60461 to 0.61277, saving model to C:/Users/heman/Downloads/Capstone_Project/SKIN/models/different_class_accuracy\\weights-best-10-0.61-0.54.hdf5\n",
      "282/282 [==============================] - 75s 266ms/step - loss: 0.7815 - accuracy: 0.6128 - val_loss: 1.0543 - val_accuracy: 0.5446\n",
      "Epoch 11/30\n",
      "282/282 [==============================] - ETA: 0s - loss: 0.7498 - accuracy: 0.6454\n",
      "Epoch 11: accuracy improved from 0.61277 to 0.64539, saving model to C:/Users/heman/Downloads/Capstone_Project/SKIN/models/different_class_accuracy\\weights-best-11-0.65-0.55.hdf5\n",
      "282/282 [==============================] - 65s 229ms/step - loss: 0.7498 - accuracy: 0.6454 - val_loss: 1.0832 - val_accuracy: 0.5478\n",
      "Epoch 12/30\n",
      "282/282 [==============================] - ETA: 0s - loss: 0.7008 - accuracy: 0.6798\n",
      "Epoch 12: accuracy improved from 0.64539 to 0.67979, saving model to C:/Users/heman/Downloads/Capstone_Project/SKIN/models/different_class_accuracy\\weights-best-12-0.68-0.58.hdf5\n",
      "282/282 [==============================] - 65s 230ms/step - loss: 0.7008 - accuracy: 0.6798 - val_loss: 1.0594 - val_accuracy: 0.5828\n",
      "Epoch 13/30\n",
      "282/282 [==============================] - ETA: 0s - loss: 0.6205 - accuracy: 0.7113\n",
      "Epoch 13: accuracy improved from 0.67979 to 0.71135, saving model to C:/Users/heman/Downloads/Capstone_Project/SKIN/models/different_class_accuracy\\weights-best-13-0.71-0.60.hdf5\n",
      "282/282 [==============================] - 66s 233ms/step - loss: 0.6205 - accuracy: 0.7113 - val_loss: 1.1885 - val_accuracy: 0.6019\n",
      "Epoch 14/30\n",
      "282/282 [==============================] - ETA: 0s - loss: 0.5362 - accuracy: 0.7589\n",
      "Epoch 14: accuracy improved from 0.71135 to 0.75887, saving model to C:/Users/heman/Downloads/Capstone_Project/SKIN/models/different_class_accuracy\\weights-best-14-0.76-0.64.hdf5\n",
      "282/282 [==============================] - 66s 234ms/step - loss: 0.5362 - accuracy: 0.7589 - val_loss: 1.1270 - val_accuracy: 0.6369\n",
      "Epoch 15/30\n",
      "282/282 [==============================] - ETA: 0s - loss: 0.4648 - accuracy: 0.7897\n",
      "Epoch 15: accuracy improved from 0.75887 to 0.78972, saving model to C:/Users/heman/Downloads/Capstone_Project/SKIN/models/different_class_accuracy\\weights-best-15-0.79-0.66.hdf5\n",
      "282/282 [==============================] - 66s 235ms/step - loss: 0.4648 - accuracy: 0.7897 - val_loss: 1.3943 - val_accuracy: 0.6561\n",
      "Epoch 16/30\n",
      "282/282 [==============================] - ETA: 0s - loss: 0.4138 - accuracy: 0.8270\n",
      "Epoch 16: accuracy improved from 0.78972 to 0.82695, saving model to C:/Users/heman/Downloads/Capstone_Project/SKIN/models/different_class_accuracy\\weights-best-16-0.83-0.63.hdf5\n",
      "282/282 [==============================] - 66s 233ms/step - loss: 0.4138 - accuracy: 0.8270 - val_loss: 1.3945 - val_accuracy: 0.6274\n",
      "Epoch 17/30\n",
      "282/282 [==============================] - ETA: 0s - loss: 0.3427 - accuracy: 0.8660\n",
      "Epoch 17: accuracy improved from 0.82695 to 0.86596, saving model to C:/Users/heman/Downloads/Capstone_Project/SKIN/models/different_class_accuracy\\weights-best-17-0.87-0.67.hdf5\n",
      "282/282 [==============================] - 67s 236ms/step - loss: 0.3427 - accuracy: 0.8660 - val_loss: 1.3055 - val_accuracy: 0.6656\n",
      "Epoch 18/30\n",
      "282/282 [==============================] - ETA: 0s - loss: 0.3265 - accuracy: 0.8812\n",
      "Epoch 18: accuracy improved from 0.86596 to 0.88121, saving model to C:/Users/heman/Downloads/Capstone_Project/SKIN/models/different_class_accuracy\\weights-best-18-0.88-0.61.hdf5\n",
      "282/282 [==============================] - 66s 232ms/step - loss: 0.3265 - accuracy: 0.8812 - val_loss: 1.4292 - val_accuracy: 0.6146\n",
      "Epoch 19/30\n",
      "282/282 [==============================] - ETA: 0s - loss: 0.2366 - accuracy: 0.9184\n",
      "Epoch 19: accuracy improved from 0.88121 to 0.91844, saving model to C:/Users/heman/Downloads/Capstone_Project/SKIN/models/different_class_accuracy\\weights-best-19-0.92-0.66.hdf5\n",
      "282/282 [==============================] - 67s 237ms/step - loss: 0.2366 - accuracy: 0.9184 - val_loss: 1.4243 - val_accuracy: 0.6592\n",
      "Epoch 20/30\n",
      "282/282 [==============================] - ETA: 0s - loss: 0.1811 - accuracy: 0.9397\n",
      "Epoch 20: accuracy improved from 0.91844 to 0.93972, saving model to C:/Users/heman/Downloads/Capstone_Project/SKIN/models/different_class_accuracy\\weights-best-20-0.94-0.67.hdf5\n",
      "282/282 [==============================] - 66s 234ms/step - loss: 0.1811 - accuracy: 0.9397 - val_loss: 1.8627 - val_accuracy: 0.6656\n",
      "Epoch 21/30\n",
      "282/282 [==============================] - ETA: 0s - loss: 0.1396 - accuracy: 0.9514\n",
      "Epoch 21: accuracy improved from 0.93972 to 0.95142, saving model to C:/Users/heman/Downloads/Capstone_Project/SKIN/models/different_class_accuracy\\weights-best-21-0.95-0.71.hdf5\n",
      "282/282 [==============================] - 64s 228ms/step - loss: 0.1396 - accuracy: 0.9514 - val_loss: 1.8977 - val_accuracy: 0.7070\n",
      "Epoch 22/30\n",
      "282/282 [==============================] - ETA: 0s - loss: 0.1135 - accuracy: 0.9617\n",
      "Epoch 22: accuracy improved from 0.95142 to 0.96170, saving model to C:/Users/heman/Downloads/Capstone_Project/SKIN/models/different_class_accuracy\\weights-best-22-0.96-0.69.hdf5\n",
      "282/282 [==============================] - 67s 236ms/step - loss: 0.1135 - accuracy: 0.9617 - val_loss: 2.2303 - val_accuracy: 0.6943\n",
      "Epoch 23/30\n",
      "282/282 [==============================] - ETA: 0s - loss: 0.1399 - accuracy: 0.9585\n",
      "Epoch 23: accuracy did not improve from 0.96170\n",
      "282/282 [==============================] - 65s 231ms/step - loss: 0.1399 - accuracy: 0.9585 - val_loss: 1.8042 - val_accuracy: 0.7006\n",
      "Epoch 24/30\n",
      "282/282 [==============================] - ETA: 0s - loss: 0.1116 - accuracy: 0.9628\n",
      "Epoch 24: accuracy improved from 0.96170 to 0.96277, saving model to C:/Users/heman/Downloads/Capstone_Project/SKIN/models/different_class_accuracy\\weights-best-24-0.96-0.67.hdf5\n",
      "282/282 [==============================] - 64s 228ms/step - loss: 0.1116 - accuracy: 0.9628 - val_loss: 2.5827 - val_accuracy: 0.6688\n",
      "Epoch 25/30\n",
      "282/282 [==============================] - ETA: 0s - loss: 0.0568 - accuracy: 0.9837\n",
      "Epoch 25: accuracy improved from 0.96277 to 0.98369, saving model to C:/Users/heman/Downloads/Capstone_Project/SKIN/models/different_class_accuracy\\weights-best-25-0.98-0.68.hdf5\n",
      "282/282 [==============================] - 65s 230ms/step - loss: 0.0568 - accuracy: 0.9837 - val_loss: 2.6601 - val_accuracy: 0.6752\n",
      "Epoch 26/30\n",
      "282/282 [==============================] - ETA: 0s - loss: 0.0441 - accuracy: 0.9894\n",
      "Epoch 26: accuracy improved from 0.98369 to 0.98936, saving model to C:/Users/heman/Downloads/Capstone_Project/SKIN/models/different_class_accuracy\\weights-best-26-0.99-0.69.hdf5\n",
      "282/282 [==============================] - 65s 229ms/step - loss: 0.0441 - accuracy: 0.9894 - val_loss: 2.6806 - val_accuracy: 0.6943\n",
      "Epoch 27/30\n",
      "282/282 [==============================] - ETA: 0s - loss: 0.0302 - accuracy: 0.9933\n",
      "Epoch 27: accuracy improved from 0.98936 to 0.99326, saving model to C:/Users/heman/Downloads/Capstone_Project/SKIN/models/different_class_accuracy\\weights-best-27-0.99-0.70.hdf5\n",
      "282/282 [==============================] - 65s 230ms/step - loss: 0.0302 - accuracy: 0.9933 - val_loss: 2.6203 - val_accuracy: 0.7006\n",
      "Epoch 28/30\n",
      "282/282 [==============================] - ETA: 0s - loss: 0.0308 - accuracy: 0.9901\n",
      "Epoch 28: accuracy did not improve from 0.99326\n",
      "282/282 [==============================] - 65s 229ms/step - loss: 0.0308 - accuracy: 0.9901 - val_loss: 2.8927 - val_accuracy: 0.6879\n",
      "Epoch 29/30\n",
      "282/282 [==============================] - ETA: 0s - loss: 0.1214 - accuracy: 0.9663\n",
      "Epoch 29: accuracy did not improve from 0.99326\n",
      "282/282 [==============================] - 65s 230ms/step - loss: 0.1214 - accuracy: 0.9663 - val_loss: 2.5272 - val_accuracy: 0.6783\n",
      "Epoch 30/30\n",
      "282/282 [==============================] - ETA: 0s - loss: 0.0414 - accuracy: 0.9904\n",
      "Epoch 30: accuracy did not improve from 0.99326\n",
      "282/282 [==============================] - 63s 224ms/step - loss: 0.0414 - accuracy: 0.9904 - val_loss: 2.1491 - val_accuracy: 0.6943\n"
     ]
    },
    {
     "data": {
      "text/plain": [
       "<keras.callbacks.History at 0x1e04a518e80>"
      ]
     },
     "execution_count": 15,
     "metadata": {},
     "output_type": "execute_result"
    }
   ],
   "source": [
    "# No need to run this, if you are loading the model, if not you cna run this to train your model again and save another weights file.\n",
    "cnn_model.fit(X_train, y_train, batch_size=10, epochs=20, validation_split=0.1, callbacks=callbacks_list) "
   ]
  },
  {
   "cell_type": "code",
   "execution_count": 16,
   "metadata": {},
   "outputs": [
    {
     "data": {
      "text/plain": [
       "(2.25661563873291, 0.6590257883071899)"
      ]
     },
     "execution_count": 16,
     "metadata": {},
     "output_type": "execute_result"
    }
   ],
   "source": [
    "score, acc = cnn_model.evaluate(X_test, y_test, verbose=0)\n",
    "score, acc"
   ]
  },
  {
   "cell_type": "code",
   "execution_count": null,
   "metadata": {},
   "outputs": [],
   "source": [
    "# Starting the training where we have stopped.\n",
    "# cnn_model.fit(X_train, y_train, batch_size=10, initial_epochs=10, validation_split=0.1, callbacks=callbacks_list)"
   ]
  },
  {
   "cell_type": "code",
   "execution_count": 21,
   "metadata": {},
   "outputs": [],
   "source": [
    "# load the saved model\n",
    "from tensorflow.keras.models import load_model\n",
    "loaded_model = load_model('C:/Users/heman/Downloads/Capstone_Project/SKIN/models/weights-best-04-0.91-0.73.hdf5')"
   ]
  },
  {
   "cell_type": "code",
   "execution_count": 22,
   "metadata": {},
   "outputs": [
    {
     "data": {
      "text/plain": [
       "(0.4080801010131836, 0.8767908215522766)"
      ]
     },
     "execution_count": 22,
     "metadata": {},
     "output_type": "execute_result"
    }
   ],
   "source": [
    "score, acc = loaded_model.evaluate(X_test, y_test, verbose=0)\n",
    "score, acc"
   ]
  },
  {
   "cell_type": "code",
   "execution_count": 23,
   "metadata": {},
   "outputs": [
    {
     "name": "stdout",
     "output_type": "stream",
     "text": [
      "Epoch 1/30\n",
      "282/282 [==============================] - ETA: 0s - loss: 0.4727 - accuracy: 0.8433\n",
      "Epoch 1: accuracy did not improve from 0.99787\n",
      "282/282 [==============================] - 64s 224ms/step - loss: 0.4727 - accuracy: 0.8433 - val_loss: 0.5704 - val_accuracy: 0.7771\n",
      "Epoch 2/30\n",
      "282/282 [==============================] - ETA: 0s - loss: 0.2866 - accuracy: 0.9004\n",
      "Epoch 2: accuracy did not improve from 0.99787\n",
      "282/282 [==============================] - 62s 221ms/step - loss: 0.2866 - accuracy: 0.9004 - val_loss: 0.3835 - val_accuracy: 0.8758\n",
      "Epoch 3/30\n",
      "282/282 [==============================] - ETA: 0s - loss: 0.2075 - accuracy: 0.9245\n",
      "Epoch 3: accuracy did not improve from 0.99787\n",
      "282/282 [==============================] - 62s 221ms/step - loss: 0.2075 - accuracy: 0.9245 - val_loss: 0.4105 - val_accuracy: 0.8790\n",
      "Epoch 4/30\n",
      "282/282 [==============================] - ETA: 0s - loss: 0.1750 - accuracy: 0.9397\n",
      "Epoch 4: accuracy did not improve from 0.99787\n",
      "282/282 [==============================] - 62s 221ms/step - loss: 0.1750 - accuracy: 0.9397 - val_loss: 0.5189 - val_accuracy: 0.7962\n",
      "Epoch 5/30\n",
      "282/282 [==============================] - ETA: 0s - loss: 0.1417 - accuracy: 0.9507\n",
      "Epoch 5: accuracy did not improve from 0.99787\n",
      "282/282 [==============================] - 63s 222ms/step - loss: 0.1417 - accuracy: 0.9507 - val_loss: 0.4641 - val_accuracy: 0.8631\n",
      "Epoch 6/30\n",
      "282/282 [==============================] - ETA: 0s - loss: 0.1044 - accuracy: 0.9656\n",
      "Epoch 6: accuracy did not improve from 0.99787\n",
      "282/282 [==============================] - 64s 226ms/step - loss: 0.1044 - accuracy: 0.9656 - val_loss: 0.6297 - val_accuracy: 0.8662\n",
      "Epoch 7/30\n",
      "282/282 [==============================] - ETA: 0s - loss: 0.1110 - accuracy: 0.9663\n",
      "Epoch 7: accuracy did not improve from 0.99787\n",
      "282/282 [==============================] - 63s 224ms/step - loss: 0.1110 - accuracy: 0.9663 - val_loss: 0.7220 - val_accuracy: 0.7930\n",
      "Epoch 8/30\n",
      "282/282 [==============================] - ETA: 0s - loss: 0.0751 - accuracy: 0.9787\n",
      "Epoch 8: accuracy did not improve from 0.99787\n",
      "282/282 [==============================] - 67s 238ms/step - loss: 0.0751 - accuracy: 0.9787 - val_loss: 0.7399 - val_accuracy: 0.8025\n",
      "Epoch 9/30\n",
      "282/282 [==============================] - ETA: 0s - loss: 0.0761 - accuracy: 0.9755\n",
      "Epoch 9: accuracy did not improve from 0.99787\n",
      "282/282 [==============================] - 64s 226ms/step - loss: 0.0761 - accuracy: 0.9755 - val_loss: 0.8177 - val_accuracy: 0.8217\n",
      "Epoch 10/30\n",
      "282/282 [==============================] - ETA: 0s - loss: 0.0602 - accuracy: 0.9816\n",
      "Epoch 10: accuracy did not improve from 0.99787\n",
      "282/282 [==============================] - 63s 224ms/step - loss: 0.0602 - accuracy: 0.9816 - val_loss: 0.7102 - val_accuracy: 0.8344\n",
      "Epoch 11/30\n",
      "282/282 [==============================] - ETA: 0s - loss: 0.0622 - accuracy: 0.9819\n",
      "Epoch 11: accuracy did not improve from 0.99787\n",
      "282/282 [==============================] - 73s 258ms/step - loss: 0.0622 - accuracy: 0.9819 - val_loss: 0.7500 - val_accuracy: 0.8535\n",
      "Epoch 12/30\n",
      "282/282 [==============================] - ETA: 0s - loss: 0.0496 - accuracy: 0.9869\n",
      "Epoch 12: accuracy did not improve from 0.99787\n",
      "282/282 [==============================] - 66s 236ms/step - loss: 0.0496 - accuracy: 0.9869 - val_loss: 0.7924 - val_accuracy: 0.8089\n",
      "Epoch 13/30\n",
      "282/282 [==============================] - ETA: 0s - loss: 0.0348 - accuracy: 0.9915\n",
      "Epoch 13: accuracy did not improve from 0.99787\n",
      "282/282 [==============================] - 68s 242ms/step - loss: 0.0348 - accuracy: 0.9915 - val_loss: 0.7592 - val_accuracy: 0.8535\n",
      "Epoch 14/30\n",
      "282/282 [==============================] - ETA: 0s - loss: 0.0826 - accuracy: 0.9723\n",
      "Epoch 14: accuracy did not improve from 0.99787\n",
      "282/282 [==============================] - 69s 243ms/step - loss: 0.0826 - accuracy: 0.9723 - val_loss: 0.8445 - val_accuracy: 0.8057\n",
      "Epoch 15/30\n",
      "282/282 [==============================] - ETA: 0s - loss: 0.0388 - accuracy: 0.9894\n",
      "Epoch 15: accuracy did not improve from 0.99787\n",
      "282/282 [==============================] - 68s 240ms/step - loss: 0.0388 - accuracy: 0.9894 - val_loss: 0.8029 - val_accuracy: 0.8312\n",
      "Epoch 16/30\n",
      "282/282 [==============================] - ETA: 0s - loss: 0.0199 - accuracy: 0.9940\n",
      "Epoch 16: accuracy did not improve from 0.99787\n",
      "282/282 [==============================] - 68s 241ms/step - loss: 0.0199 - accuracy: 0.9940 - val_loss: 0.7680 - val_accuracy: 0.8503\n",
      "Epoch 17/30\n",
      "282/282 [==============================] - ETA: 0s - loss: 0.0153 - accuracy: 0.9950\n",
      "Epoch 17: accuracy did not improve from 0.99787\n",
      "282/282 [==============================] - 68s 240ms/step - loss: 0.0153 - accuracy: 0.9950 - val_loss: 0.7459 - val_accuracy: 0.8376\n",
      "Epoch 18/30\n",
      "282/282 [==============================] - ETA: 0s - loss: 0.0234 - accuracy: 0.9943\n",
      "Epoch 18: accuracy did not improve from 0.99787\n",
      "282/282 [==============================] - 68s 242ms/step - loss: 0.0234 - accuracy: 0.9943 - val_loss: 0.8337 - val_accuracy: 0.8185\n",
      "Epoch 19/30\n",
      "282/282 [==============================] - ETA: 0s - loss: 0.1458 - accuracy: 0.9617\n",
      "Epoch 19: accuracy did not improve from 0.99787\n",
      "282/282 [==============================] - 68s 241ms/step - loss: 0.1458 - accuracy: 0.9617 - val_loss: 0.7051 - val_accuracy: 0.8280\n",
      "Epoch 20/30\n",
      "282/282 [==============================] - ETA: 0s - loss: 0.0348 - accuracy: 0.9915\n",
      "Epoch 20: accuracy did not improve from 0.99787\n",
      "282/282 [==============================] - 70s 249ms/step - loss: 0.0348 - accuracy: 0.9915 - val_loss: 1.0592 - val_accuracy: 0.7771\n",
      "Epoch 21/30\n",
      "282/282 [==============================] - ETA: 0s - loss: 0.0154 - accuracy: 0.9957\n",
      "Epoch 21: accuracy did not improve from 0.99787\n",
      "282/282 [==============================] - 69s 245ms/step - loss: 0.0154 - accuracy: 0.9957 - val_loss: 0.8245 - val_accuracy: 0.8057\n",
      "Epoch 22/30\n",
      "282/282 [==============================] - ETA: 0s - loss: 0.0063 - accuracy: 0.9993\n",
      "Epoch 22: accuracy improved from 0.99787 to 0.99929, saving model to C:/Users/heman/Downloads/Capstone_Project/SKIN/models/different_class_accuracy\\weights-best-22-1.00-0.82.hdf5\n",
      "282/282 [==============================] - 67s 236ms/step - loss: 0.0063 - accuracy: 0.9993 - val_loss: 0.8113 - val_accuracy: 0.8248\n",
      "Epoch 23/30\n",
      "282/282 [==============================] - ETA: 0s - loss: 0.0052 - accuracy: 0.9989\n",
      "Epoch 23: accuracy did not improve from 0.99929\n",
      "282/282 [==============================] - 68s 241ms/step - loss: 0.0052 - accuracy: 0.9989 - val_loss: 0.9911 - val_accuracy: 0.8248\n",
      "Epoch 24/30\n",
      "282/282 [==============================] - ETA: 0s - loss: 0.0197 - accuracy: 0.9940\n",
      "Epoch 24: accuracy did not improve from 0.99929\n",
      "282/282 [==============================] - 67s 236ms/step - loss: 0.0197 - accuracy: 0.9940 - val_loss: 1.1850 - val_accuracy: 0.7898\n",
      "Epoch 25/30\n",
      "282/282 [==============================] - ETA: 0s - loss: 0.0879 - accuracy: 0.9759\n",
      "Epoch 25: accuracy did not improve from 0.99929\n",
      "282/282 [==============================] - 67s 236ms/step - loss: 0.0879 - accuracy: 0.9759 - val_loss: 0.9228 - val_accuracy: 0.8121\n",
      "Epoch 26/30\n",
      "282/282 [==============================] - ETA: 0s - loss: 0.0375 - accuracy: 0.9926\n",
      "Epoch 26: accuracy did not improve from 0.99929\n",
      "282/282 [==============================] - 61s 215ms/step - loss: 0.0375 - accuracy: 0.9926 - val_loss: 1.3354 - val_accuracy: 0.7484\n",
      "Epoch 27/30\n",
      "282/282 [==============================] - ETA: 0s - loss: 0.0521 - accuracy: 0.9879\n",
      "Epoch 27: accuracy did not improve from 0.99929\n",
      "282/282 [==============================] - 52s 185ms/step - loss: 0.0521 - accuracy: 0.9879 - val_loss: 0.8434 - val_accuracy: 0.8439\n"
     ]
    },
    {
     "data": {
      "text/plain": [
       "<keras.callbacks.History at 0x1e0a9f97fd0>"
      ]
     },
     "execution_count": 23,
     "metadata": {},
     "output_type": "execute_result"
    }
   ],
   "source": [
    "# No need to run this, if you are loading the model, if not you cna run this to train your model again and save another weights file.\n",
    "loaded_model.fit(X_train, y_train, batch_size=10, epochs=30, validation_split=0.1, callbacks=callbacks_list) "
   ]
  },
  {
   "cell_type": "code",
   "execution_count": 24,
   "metadata": {},
   "outputs": [
    {
     "data": {
      "text/plain": [
       "(0.8856669664382935, 0.8051576018333435)"
      ]
     },
     "execution_count": 24,
     "metadata": {},
     "output_type": "execute_result"
    }
   ],
   "source": [
    "score, acc = loaded_model.evaluate(X_test, y_test, verbose=0)\n",
    "score, acc"
   ]
  },
  {
   "cell_type": "code",
   "execution_count": 28,
   "metadata": {},
   "outputs": [],
   "source": [
    "# load the saved model\n",
    "from tensorflow.keras.models import load_model\n",
    "loaded_model_2 = load_model('C:/Users/heman/Downloads/Capstone_Project/SKIN/models/weights-best-04-0.91-0.73.hdf5')"
   ]
  },
  {
   "cell_type": "code",
   "execution_count": 29,
   "metadata": {},
   "outputs": [
    {
     "data": {
      "text/plain": [
       "(0.4080801010131836, 0.8767908215522766)"
      ]
     },
     "execution_count": 29,
     "metadata": {},
     "output_type": "execute_result"
    }
   ],
   "source": [
    "score, acc = loaded_model_2.evaluate(X_test, y_test, verbose=0)\n",
    "score, acc"
   ]
  },
  {
   "cell_type": "code",
   "execution_count": 30,
   "metadata": {},
   "outputs": [
    {
     "name": "stdout",
     "output_type": "stream",
     "text": [
      "Epoch 1/30\n",
      "282/282 [==============================] - ETA: 0s - loss: 0.4491 - accuracy: 0.8489\n",
      "Epoch 1: accuracy did not improve from 0.99929\n",
      "282/282 [==============================] - 53s 187ms/step - loss: 0.4491 - accuracy: 0.8489 - val_loss: 0.3927 - val_accuracy: 0.8599\n",
      "Epoch 2/30\n",
      "282/282 [==============================] - ETA: 0s - loss: 0.2740 - accuracy: 0.9067\n",
      "Epoch 2: accuracy did not improve from 0.99929\n",
      "282/282 [==============================] - 61s 216ms/step - loss: 0.2740 - accuracy: 0.9067 - val_loss: 0.3942 - val_accuracy: 0.8694\n",
      "Epoch 3/30\n",
      "282/282 [==============================] - ETA: 0s - loss: 0.2025 - accuracy: 0.9298\n",
      "Epoch 3: accuracy did not improve from 0.99929\n",
      "282/282 [==============================] - 51s 180ms/step - loss: 0.2025 - accuracy: 0.9298 - val_loss: 0.4342 - val_accuracy: 0.8662\n",
      "Epoch 4/30\n",
      "282/282 [==============================] - ETA: 0s - loss: 0.1652 - accuracy: 0.9450\n",
      "Epoch 4: accuracy did not improve from 0.99929\n",
      "282/282 [==============================] - 49s 172ms/step - loss: 0.1652 - accuracy: 0.9450 - val_loss: 0.4501 - val_accuracy: 0.8917\n",
      "Epoch 5/30\n",
      "282/282 [==============================] - ETA: 0s - loss: 0.1132 - accuracy: 0.9621\n",
      "Epoch 5: accuracy did not improve from 0.99929\n",
      "282/282 [==============================] - 49s 174ms/step - loss: 0.1132 - accuracy: 0.9621 - val_loss: 0.5848 - val_accuracy: 0.8471\n",
      "Epoch 6/30\n",
      "282/282 [==============================] - ETA: 0s - loss: 0.1014 - accuracy: 0.9667\n",
      "Epoch 6: accuracy did not improve from 0.99929\n",
      "282/282 [==============================] - 54s 191ms/step - loss: 0.1014 - accuracy: 0.9667 - val_loss: 0.5242 - val_accuracy: 0.8599\n",
      "Epoch 7/30\n",
      "282/282 [==============================] - ETA: 0s - loss: 0.0972 - accuracy: 0.9652\n",
      "Epoch 7: accuracy did not improve from 0.99929\n",
      "282/282 [==============================] - 54s 192ms/step - loss: 0.0972 - accuracy: 0.9652 - val_loss: 0.5971 - val_accuracy: 0.8503\n",
      "Epoch 8/30\n",
      "282/282 [==============================] - ETA: 0s - loss: 0.0733 - accuracy: 0.9787\n",
      "Epoch 8: accuracy did not improve from 0.99929\n",
      "282/282 [==============================] - 52s 183ms/step - loss: 0.0733 - accuracy: 0.9787 - val_loss: 0.5938 - val_accuracy: 0.8567\n",
      "Epoch 9/30\n",
      "282/282 [==============================] - ETA: 0s - loss: 0.0446 - accuracy: 0.9883\n",
      "Epoch 9: accuracy did not improve from 0.99929\n",
      "282/282 [==============================] - 48s 170ms/step - loss: 0.0446 - accuracy: 0.9883 - val_loss: 0.8409 - val_accuracy: 0.8439\n",
      "Epoch 10/30\n",
      "282/282 [==============================] - ETA: 0s - loss: 0.0780 - accuracy: 0.9748\n",
      "Epoch 10: accuracy did not improve from 0.99929\n",
      "282/282 [==============================] - 47s 168ms/step - loss: 0.0780 - accuracy: 0.9748 - val_loss: 0.5616 - val_accuracy: 0.8503\n",
      "Epoch 11/30\n",
      "282/282 [==============================] - ETA: 0s - loss: 0.0583 - accuracy: 0.9837\n",
      "Epoch 11: accuracy did not improve from 0.99929\n",
      "282/282 [==============================] - 56s 198ms/step - loss: 0.0583 - accuracy: 0.9837 - val_loss: 0.6772 - val_accuracy: 0.8535\n",
      "Epoch 12/30\n",
      "282/282 [==============================] - ETA: 0s - loss: 0.0421 - accuracy: 0.9883\n",
      "Epoch 12: accuracy did not improve from 0.99929\n",
      "282/282 [==============================] - 68s 241ms/step - loss: 0.0421 - accuracy: 0.9883 - val_loss: 0.8913 - val_accuracy: 0.8185\n",
      "Epoch 13/30\n",
      "282/282 [==============================] - ETA: 0s - loss: 0.1183 - accuracy: 0.9670\n",
      "Epoch 13: accuracy did not improve from 0.99929\n",
      "282/282 [==============================] - 70s 247ms/step - loss: 0.1183 - accuracy: 0.9670 - val_loss: 0.9546 - val_accuracy: 0.8121\n",
      "Epoch 14/30\n",
      "282/282 [==============================] - ETA: 0s - loss: 0.1042 - accuracy: 0.9716\n",
      "Epoch 14: accuracy did not improve from 0.99929\n",
      "282/282 [==============================] - 61s 216ms/step - loss: 0.1042 - accuracy: 0.9716 - val_loss: 0.7524 - val_accuracy: 0.8089\n"
     ]
    },
    {
     "data": {
      "text/plain": [
       "<keras.callbacks.History at 0x1e0aa07ddf0>"
      ]
     },
     "execution_count": 30,
     "metadata": {},
     "output_type": "execute_result"
    }
   ],
   "source": [
    "# No need to run this, if you are loading the model, if not you cna run this to train your model again and save another weights file.\n",
    "loaded_model_2.fit(X_train, y_train, batch_size=10, epochs=30, validation_split=0.1, callbacks=callbacks_list) "
   ]
  },
  {
   "cell_type": "code",
   "execution_count": 36,
   "metadata": {},
   "outputs": [],
   "source": [
    "# load the saved model\n",
    "from tensorflow.keras.models import load_model\n",
    "loaded_model_3 = load_model('C:/Users/heman/Downloads/Capstone_Project/SKIN/models/weights-best-04-0.91-0.73.hdf5')"
   ]
  },
  {
   "cell_type": "code",
   "execution_count": 37,
   "metadata": {},
   "outputs": [
    {
     "data": {
      "text/plain": [
       "(0.4080801010131836, 0.8767908215522766)"
      ]
     },
     "execution_count": 37,
     "metadata": {},
     "output_type": "execute_result"
    }
   ],
   "source": [
    "score, acc = loaded_model_3.evaluate(X_test, y_test, verbose=0)\n",
    "score, acc"
   ]
  },
  {
   "cell_type": "code",
   "execution_count": 38,
   "metadata": {},
   "outputs": [
    {
     "name": "stdout",
     "output_type": "stream",
     "text": [
      "11/11 [==============================] - 1s 76ms/step\n"
     ]
    }
   ],
   "source": [
    "y_pred = loaded_model_3.predict(X_test)"
   ]
  },
  {
   "cell_type": "code",
   "execution_count": 39,
   "metadata": {
    "tags": []
   },
   "outputs": [
    {
     "data": {
      "text/plain": [
       "array([[7.8456867e-01, 7.5186568e-01, 1.6591695e-01],\n",
       "       [1.9171443e-08, 9.9924856e-01, 9.7347993e-01],\n",
       "       [9.2867756e-01, 2.7004763e-01, 7.0721649e-02],\n",
       "       ...,\n",
       "       [9.6644032e-01, 4.6402359e-01, 2.3293778e-02],\n",
       "       [7.8876156e-01, 8.6066008e-01, 2.0716643e-01],\n",
       "       [2.6251048e-02, 6.4301395e-01, 9.5236158e-01]], dtype=float32)"
      ]
     },
     "execution_count": 39,
     "metadata": {},
     "output_type": "execute_result"
    }
   ],
   "source": [
    "y_pred"
   ]
  },
  {
   "cell_type": "code",
   "execution_count": 40,
   "metadata": {},
   "outputs": [
    {
     "data": {
      "text/plain": [
       "349"
      ]
     },
     "execution_count": 40,
     "metadata": {},
     "output_type": "execute_result"
    }
   ],
   "source": [
    "len(y_pred)"
   ]
  },
  {
   "cell_type": "code",
   "execution_count": 41,
   "metadata": {},
   "outputs": [],
   "source": [
    "count = len(y_pred)\n",
    "result = []\n",
    "for i in range(count):\n",
    "    if np.argmax(y_pred[i]) == 0:\n",
    "        result.append(0)\n",
    "    elif np.argmax(y_pred[i]) == 1:\n",
    "        result.append(1)\n",
    "    else:\n",
    "        result.append(2)"
   ]
  },
  {
   "cell_type": "code",
   "execution_count": 42,
   "metadata": {},
   "outputs": [
    {
     "data": {
      "image/png": "[encoded data removed]",
      "text/plain": [
       "<Figure size 1200x1000 with 2 Axes>"
      ]
     },
     "metadata": {},
     "output_type": "display_data"
    }
   ],
   "source": [
    "plt.figure(figsize = (12,10))\n",
    "cf_matrix = confusion_matrix(result,y_test)\n",
    "sns.heatmap(cf_matrix, annot=True, fmt=\"d\")\n",
    "plt.title(\"Confusion Matrix\")\n",
    "plt.ylabel(\"True Label\")\n",
    "plt.xlabel(\"Predicted Label\")\n",
    "plt.show()"
   ]
  },
  {
   "cell_type": "markdown",
   "metadata": {},
   "source": [
    "### Testing on Single Image"
   ]
  },
  {
   "cell_type": "code",
   "execution_count": 51,
   "metadata": {},
   "outputs": [
    {
     "data": {
      "text/plain": [
       "2"
      ]
     },
     "execution_count": 51,
     "metadata": {},
     "output_type": "execute_result"
    }
   ],
   "source": [
    "# y_test[34] # 2\n",
    "\n",
    "# y_test[54] # 1\n",
    "\n",
    "# y_test[89] # 0\n",
    "\n",
    "\n",
    "y_test[78] # 0"
   ]
  },
  {
   "cell_type": "code",
   "execution_count": 1,
   "metadata": {},
   "outputs": [
    {
     "ename": "NameError",
     "evalue": "name 'np' is not defined",
     "output_type": "error",
     "traceback": [
      "\u001b[1;31m---------------------------------------------------------------------------\u001b[0m",
      "\u001b[1;31mNameError\u001b[0m                                 Traceback (most recent call last)",
      "\u001b[1;32m~\\AppData\\Local\\Temp\\ipykernel_18612\\1218574726.py\u001b[0m in \u001b[0;36m<module>\u001b[1;34m\u001b[0m\n\u001b[1;32m----> 1\u001b[1;33m \u001b[0mxi\u001b[0m \u001b[1;33m=\u001b[0m \u001b[0mnp\u001b[0m\u001b[1;33m.\u001b[0m\u001b[0marray\u001b[0m\u001b[1;33m(\u001b[0m\u001b[0mX_test\u001b[0m\u001b[1;33m[\u001b[0m\u001b[1;36m54\u001b[0m\u001b[1;33m]\u001b[0m\u001b[1;33m)\u001b[0m\u001b[1;33m.\u001b[0m\u001b[0mreshape\u001b[0m\u001b[1;33m(\u001b[0m\u001b[1;33m-\u001b[0m\u001b[1;36m1\u001b[0m\u001b[1;33m,\u001b[0m \u001b[1;36m180\u001b[0m\u001b[1;33m,\u001b[0m \u001b[1;36m180\u001b[0m\u001b[1;33m,\u001b[0m \u001b[1;36m1\u001b[0m\u001b[1;33m)\u001b[0m\u001b[1;33m\u001b[0m\u001b[1;33m\u001b[0m\u001b[0m\n\u001b[0m\u001b[0;32m      2\u001b[0m \u001b[0mprint\u001b[0m\u001b[1;33m(\u001b[0m\u001b[0mxi\u001b[0m\u001b[1;33m.\u001b[0m\u001b[0mshape\u001b[0m\u001b[1;33m)\u001b[0m\u001b[1;33m\u001b[0m\u001b[1;33m\u001b[0m\u001b[0m\n",
      "\u001b[1;31mNameError\u001b[0m: name 'np' is not defined"
     ]
    }
   ],
   "source": [
    "xi = np.array(X_test[54]).reshape(-1, 180, 180, 1)\n",
    "print(xi.shape)"
   ]
  },
  {
   "cell_type": "code",
   "execution_count": 44,
   "metadata": {},
   "outputs": [
    {
     "name": "stdout",
     "output_type": "stream",
     "text": [
      "1/1 [==============================] - 0s 24ms/step\n",
      "The Person is Having Dermatofibroma\n"
     ]
    }
   ],
   "source": [
    "prediction = loaded_model_3.predict(xi)\n",
    "# np.argmax(prediction)\n",
    "if np.argmax(prediction) == 0:\n",
    "    print(\"THe Person is Having Acnitic Keratosis\")\n",
    "elif np.argmax(prediction) == 1:\n",
    "    print(\"The Person is Having Dermatofibroma\")\n",
    "else:\n",
    "    print(\"The Person is Having Vascular Lesion\")"
   ]
  },
  {
   "cell_type": "code",
   "execution_count": null,
   "metadata": {},
   "outputs": [],
   "source": []
  }
 ],
 "metadata": {
  "kernelspec": {
   "display_name": "Python 3 (ipykernel)",
   "language": "python",
   "name": "python3"
  },
  "language_info": {
   "codemirror_mode": {
    "name": "ipython",
    "version": 3
   },
   "file_extension": ".py",
   "mimetype": "text/x-python",
   "name": "python",
   "nbconvert_exporter": "python",
   "pygments_lexer": "ipython3",
   "version": "3.9.13"
  },
  "vscode": {
   "interpreter": {
    "hash": "537a1ccab29e2bad0b4d998c04f52d9d2f6eadd1beb35b9ac347a685a31f8869"
   }
  }
 },
 "nbformat": 4,
 "nbformat_minor": 4
}
